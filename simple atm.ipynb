{
  "nbformat": 4,
  "nbformat_minor": 0,
  "metadata": {
    "colab": {
      "provenance": [],
      "authorship_tag": "ABX9TyOBvEOebh8MTAxTb26Bo0U7",
      "include_colab_link": true
    },
    "kernelspec": {
      "name": "python3",
      "display_name": "Python 3"
    },
    "language_info": {
      "name": "python"
    }
  },
  "cells": [
    {
      "cell_type": "markdown",
      "metadata": {
        "id": "view-in-github",
        "colab_type": "text"
      },
      "source": [
        "<a href=\"https://colab.research.google.com/github/Rushikesh419/simple-atm/blob/main/simple%20atm.ipynb\" target=\"_parent\"><img src=\"https://colab.research.google.com/assets/colab-badge.svg\" alt=\"Open In Colab\"/></a>"
      ]
    },
    {
      "cell_type": "code",
      "execution_count": 1,
      "metadata": {
        "colab": {
          "base_uri": "https://localhost:8080/"
        },
        "id": "Z_SzTBUMn3bj",
        "outputId": "a1a1c131-4810-4e89-f00f-5eb5dd4da62f"
      },
      "outputs": [
        {
          "output_type": "stream",
          "name": "stdout",
          "text": [
            "enter card number : 123456\n",
            "enter the pin : 1234\n",
            "\n",
            "          1) transaction\n",
            "          2) other\n",
            "          \n",
            "enter what do you want to do : 1\n",
            "\n",
            "         1 = Withdrawal\n",
            "         2 = Savings\n",
            "         3 = Current\n",
            "          \n",
            "Enter your choice : 1\n",
            "enter amount you want to withdraw : 800\n",
            "rupees 800 will be debited from your account\n",
            "your current balance is 29200\n",
            "your transaction is successful\n"
          ]
        }
      ],
      "source": [
        "# simple atm\n",
        "card_number=123456\n",
        "password = 1234\n",
        "balance = 30000\n",
        "mo_no=9623277005\n",
        "option=1,2,3,4\n",
        "\n",
        "number = int(input('enter card number : '))\n",
        "pin = int(input('enter the pin : '))\n",
        "\n",
        "\n",
        "if password == pin and card_number== number:\n",
        "    print(\"\"\"\n",
        "          1) transaction\n",
        "          2) other\n",
        "          \"\"\")\n",
        "    process = int(input('enter what do you want to do : '))\n",
        "    if process == 1:\n",
        "        print(\"\"\"\n",
        "         1 = Withdrawal\n",
        "         2 = Savings\n",
        "         3 = Current\n",
        "          \"\"\")\n",
        "        try:\n",
        "            option = int(input('Enter your choice : '))\n",
        "        except:\n",
        "            print('Enter valid option ')\n",
        "\n",
        "        if option == 1:\n",
        "            withdrawal_amount = int(input('enter amount you want to withdraw : '))\n",
        "            if withdrawal_amount % 200 != 0:\n",
        "                print('enter the amount in multiple of 200 ')\n",
        "            elif balance < withdrawal_amount:\n",
        "                print(f'your balance is insufficient. ')\n",
        "                print('Thank you')\n",
        "            else:\n",
        "                balance = balance - withdrawal_amount\n",
        "                print(f'rupees {withdrawal_amount} will be debited from your account')\n",
        "                print(f'your current balance is {balance}')\n",
        "                print('your transaction is successful')\n",
        "\n",
        "        if option == 2:\n",
        "            deposit_amount = int(input('enter the amount you want to deposit : '))\n",
        "            balance = balance + deposit_amount\n",
        "            print(f'rupees {deposit_amount} will be credited into your bank account ')\n",
        "            print(f'your current balance is {balance} ')\n",
        "\n",
        "        if option == 3:\n",
        "            print(f'your current balance is {balance} ')\n",
        "\n",
        "    if process == 2:\n",
        "        print(\"\"\"\n",
        "              1) Pin Exchange\n",
        "              2) Block Card\n",
        "              \"\"\")\n",
        "        way = int(input('enter what do you want to do : '))\n",
        "        if way == 1:\n",
        "            CN = int(input('enter the card number : '))\n",
        "            MN = int(input('enter your mobile number : '))\n",
        "            if card_number != CN or mo_no != MN:\n",
        "                print('please enter valid card number ')\n",
        "            else:\n",
        "                otp = 456\n",
        "                print('sending OTP on you phone ')\n",
        "                utp = int(input('enter your OPT : '))\n",
        "                if otp != utp:\n",
        "                    print('your otp is invalid.')\n",
        "                else:\n",
        "                    n = int(input('enter the new pin : '))\n",
        "                    print(f'your new pin is {n}')\n",
        "\n",
        "        if way == 2:\n",
        "            CN = int(input('enter the card number : '))\n",
        "            MN = int(input('enter your mobile number : '))\n",
        "            if card_number != CN or mo_no == MN:\n",
        "                print('please enter valid card number ')\n",
        "            else:\n",
        "                otp = 456\n",
        "                print('sending OTP on you phone ')\n",
        "                utp = int(input('enter your OPT : '))\n",
        "                if otp != utp:\n",
        "                    print('your otp is invalid.')\n",
        "                else:\n",
        "                    print('your card will be blocked ')\n",
        "\n",
        "\n",
        "\n",
        "else:\n",
        "    print('Wrong pin or card number try again please.')\n"
      ]
    }
  ]
}